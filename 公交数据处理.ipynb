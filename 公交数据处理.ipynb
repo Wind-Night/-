{
 "cells": [
  {
   "cell_type": "code",
   "execution_count": 39,
   "metadata": {
    "collapsed": true
   },
   "outputs": [],
   "source": [
    "import pandas as pd\n",
    "save_path='公交数据.csv'\n",
    "#只更改 公交数据.csv,改成你的数据命名\n",
    "# 最后会出现两个csv格式的文件\n",
    "# 一个是公交站点.csv，作为节点表格，数据格式选择gbk\n",
    "# 一个是公交线路.csv，作为边表格，数据格式选择gbk，边的权重代表了这两个公交站之间运营的公交线路的条数，\n",
    "#同一文件夹下输入数据名称，不同的化输入数据保存的绝对路径。"
   ]
  },
  {
   "cell_type": "code",
   "execution_count": 40,
   "outputs": [],
   "source": [
    "data=pd.read_csv(save_path)\n",
    "datas=pd.DataFrame(data)\n",
    "a=datas.shape[0]#读取数据有多少行\n",
    "b=[]\n",
    "f=[]"
   ],
   "metadata": {
    "collapsed": false,
    "pycharm": {
     "name": "#%%\n"
    }
   }
  },
  {
   "cell_type": "code",
   "execution_count": 41,
   "outputs": [],
   "source": [
    "for i in range(0,a-1):\n",
    "    if datas.iloc[i,1] == datas.iloc[i+1,1]:\n",
    "        c=[datas.iloc[i,2],datas.iloc[i+1,2]]\n",
    "        b.append(c)\n",
    "#变量b储存相邻的公交站点\n",
    "#f变量存储储存相邻的公交站点和其经纬度"
   ],
   "metadata": {
    "collapsed": false,
    "pycharm": {
     "name": "#%%\n"
    }
   }
  },
  {
   "cell_type": "code",
   "execution_count": 42,
   "outputs": [],
   "source": [
    "d=pd.DataFrame(b)\n",
    "temp = [[name[0], name[1], len(group)] for name, group in d.groupby([0, 1])]\n",
    "#对相邻的公交站点进行去重和计算重复次数，重复次数代表这一路段经过的公交线路的条数\n",
    "data_re = pd.DataFrame(temp, columns=['source', 'target', 'Weight'])\n",
    "#更改列名\n",
    "data_re.to_csv('公交线路.csv',mode='a', header=True, index=False,encoding='ANSI')\n",
    "#公交线路.csv作为gephi实验的边表格"
   ],
   "metadata": {
    "collapsed": false,
    "pycharm": {
     "name": "#%%\n"
    }
   }
  },
  {
   "cell_type": "code",
   "execution_count": 43,
   "outputs": [],
   "source": [
    "A=datas.iloc[:,2]\n",
    "B=datas.iloc[:,2]\n",
    "C=datas.iloc[:,4]\n",
    "D=datas.iloc[:,3]\n",
    "df = pd.concat([pd.DataFrame(A),pd.DataFrame(B), pd.DataFrame(C), pd.DataFrame(D)], axis=1)\n",
    "data_re1 = df.drop_duplicates(subset='bus_Stop')\n",
    "#对公交站点进行去重\n",
    "data_re1.columns=['ID','LABEL','Lat','Lng']\n",
    "#更改列名\n",
    "data_re1.to_csv('公交站点.csv',mode='a', header=True, index=False,encoding='ANSI')\n",
    "#公交站点.csv作为gephi实验的节点表格\n",
    "#做一个小小的实验"
   ],
   "metadata": {
    "collapsed": false,
    "pycharm": {
     "name": "#%%\n"
    }
   }
  },
  {
   "cell_type": "code",
   "execution_count": 44,
   "outputs": [
    {
     "data": {
      "text/plain": "              ID       LABEL        Lat         Lng\n0       东站(环城南路)    东站(环城南路)  25.030291  102.733550\n1           市博物馆        市博物馆  25.033260  102.728754\n2          拓东路中段       拓东路中段  25.033655  102.723958\n3            拓东路         拓东路  25.033546  102.718012\n4       得胜桥(青年路)    得胜桥(青年路)  25.035074  102.716675\n...          ...         ...        ...         ...\n7249       城市山小区       城市山小区  25.037626  102.631558\n7250  西园路口(滇缅大道)  西园路口(滇缅大道)  25.056524  102.679184\n7251  昆建路口(虹山西路)  昆建路口(虹山西路)  25.057726  102.680367\n7252         昆建路         昆建路  25.057856  102.680969\n7253    省建工医院生活区    省建工医院生活区  25.057600  102.682687\n\n[2184 rows x 4 columns]",
      "text/html": "<div>\n<style scoped>\n    .dataframe tbody tr th:only-of-type {\n        vertical-align: middle;\n    }\n\n    .dataframe tbody tr th {\n        vertical-align: top;\n    }\n\n    .dataframe thead th {\n        text-align: right;\n    }\n</style>\n<table border=\"1\" class=\"dataframe\">\n  <thead>\n    <tr style=\"text-align: right;\">\n      <th></th>\n      <th>ID</th>\n      <th>LABEL</th>\n      <th>Lat</th>\n      <th>Lng</th>\n    </tr>\n  </thead>\n  <tbody>\n    <tr>\n      <th>0</th>\n      <td>东站(环城南路)</td>\n      <td>东站(环城南路)</td>\n      <td>25.030291</td>\n      <td>102.733550</td>\n    </tr>\n    <tr>\n      <th>1</th>\n      <td>市博物馆</td>\n      <td>市博物馆</td>\n      <td>25.033260</td>\n      <td>102.728754</td>\n    </tr>\n    <tr>\n      <th>2</th>\n      <td>拓东路中段</td>\n      <td>拓东路中段</td>\n      <td>25.033655</td>\n      <td>102.723958</td>\n    </tr>\n    <tr>\n      <th>3</th>\n      <td>拓东路</td>\n      <td>拓东路</td>\n      <td>25.033546</td>\n      <td>102.718012</td>\n    </tr>\n    <tr>\n      <th>4</th>\n      <td>得胜桥(青年路)</td>\n      <td>得胜桥(青年路)</td>\n      <td>25.035074</td>\n      <td>102.716675</td>\n    </tr>\n    <tr>\n      <th>...</th>\n      <td>...</td>\n      <td>...</td>\n      <td>...</td>\n      <td>...</td>\n    </tr>\n    <tr>\n      <th>7249</th>\n      <td>城市山小区</td>\n      <td>城市山小区</td>\n      <td>25.037626</td>\n      <td>102.631558</td>\n    </tr>\n    <tr>\n      <th>7250</th>\n      <td>西园路口(滇缅大道)</td>\n      <td>西园路口(滇缅大道)</td>\n      <td>25.056524</td>\n      <td>102.679184</td>\n    </tr>\n    <tr>\n      <th>7251</th>\n      <td>昆建路口(虹山西路)</td>\n      <td>昆建路口(虹山西路)</td>\n      <td>25.057726</td>\n      <td>102.680367</td>\n    </tr>\n    <tr>\n      <th>7252</th>\n      <td>昆建路</td>\n      <td>昆建路</td>\n      <td>25.057856</td>\n      <td>102.680969</td>\n    </tr>\n    <tr>\n      <th>7253</th>\n      <td>省建工医院生活区</td>\n      <td>省建工医院生活区</td>\n      <td>25.057600</td>\n      <td>102.682687</td>\n    </tr>\n  </tbody>\n</table>\n<p>2184 rows × 4 columns</p>\n</div>"
     },
     "execution_count": 44,
     "metadata": {},
     "output_type": "execute_result"
    }
   ],
   "source": [
    "data_re1"
   ],
   "metadata": {
    "collapsed": false,
    "pycharm": {
     "name": "#%%\n"
    }
   }
  },
  {
   "cell_type": "code",
   "execution_count": 45,
   "outputs": [
    {
     "data": {
      "text/plain": "         source     target  Weight\n0        1号学生食堂    云艺公共教学楼       1\n1           6号路  凤庆路口(双羊街)       1\n2           6号路   天文台(金马路)       2\n3           6号路      金马路中段       1\n4         920医院   东陆桥(西园路)       1\n...         ...        ...     ...\n4082   龙马村(珥季路)  龙马村东(珥季路)       1\n4083  龙马村东(珥季路)   中航城(珥季路)       1\n4084  龙马村东(珥季路)   龙马村(珥季路)       1\n4085    龙马社区居委会    中营(云秀路)       4\n4086    龙马社区居委会   龙马村(云秀路)       1\n\n[4087 rows x 3 columns]",
      "text/html": "<div>\n<style scoped>\n    .dataframe tbody tr th:only-of-type {\n        vertical-align: middle;\n    }\n\n    .dataframe tbody tr th {\n        vertical-align: top;\n    }\n\n    .dataframe thead th {\n        text-align: right;\n    }\n</style>\n<table border=\"1\" class=\"dataframe\">\n  <thead>\n    <tr style=\"text-align: right;\">\n      <th></th>\n      <th>source</th>\n      <th>target</th>\n      <th>Weight</th>\n    </tr>\n  </thead>\n  <tbody>\n    <tr>\n      <th>0</th>\n      <td>1号学生食堂</td>\n      <td>云艺公共教学楼</td>\n      <td>1</td>\n    </tr>\n    <tr>\n      <th>1</th>\n      <td>6号路</td>\n      <td>凤庆路口(双羊街)</td>\n      <td>1</td>\n    </tr>\n    <tr>\n      <th>2</th>\n      <td>6号路</td>\n      <td>天文台(金马路)</td>\n      <td>2</td>\n    </tr>\n    <tr>\n      <th>3</th>\n      <td>6号路</td>\n      <td>金马路中段</td>\n      <td>1</td>\n    </tr>\n    <tr>\n      <th>4</th>\n      <td>920医院</td>\n      <td>东陆桥(西园路)</td>\n      <td>1</td>\n    </tr>\n    <tr>\n      <th>...</th>\n      <td>...</td>\n      <td>...</td>\n      <td>...</td>\n    </tr>\n    <tr>\n      <th>4082</th>\n      <td>龙马村(珥季路)</td>\n      <td>龙马村东(珥季路)</td>\n      <td>1</td>\n    </tr>\n    <tr>\n      <th>4083</th>\n      <td>龙马村东(珥季路)</td>\n      <td>中航城(珥季路)</td>\n      <td>1</td>\n    </tr>\n    <tr>\n      <th>4084</th>\n      <td>龙马村东(珥季路)</td>\n      <td>龙马村(珥季路)</td>\n      <td>1</td>\n    </tr>\n    <tr>\n      <th>4085</th>\n      <td>龙马社区居委会</td>\n      <td>中营(云秀路)</td>\n      <td>4</td>\n    </tr>\n    <tr>\n      <th>4086</th>\n      <td>龙马社区居委会</td>\n      <td>龙马村(云秀路)</td>\n      <td>1</td>\n    </tr>\n  </tbody>\n</table>\n<p>4087 rows × 3 columns</p>\n</div>"
     },
     "execution_count": 45,
     "metadata": {},
     "output_type": "execute_result"
    }
   ],
   "source": [
    "data_re"
   ],
   "metadata": {
    "collapsed": false,
    "pycharm": {
     "name": "#%%\n"
    }
   }
  }
 ],
 "metadata": {
  "kernelspec": {
   "display_name": "Python 3",
   "language": "python",
   "name": "python3"
  },
  "language_info": {
   "codemirror_mode": {
    "name": "ipython",
    "version": 2
   },
   "file_extension": ".py",
   "mimetype": "text/x-python",
   "name": "python",
   "nbconvert_exporter": "python",
   "pygments_lexer": "ipython2",
   "version": "2.7.6"
  }
 },
 "nbformat": 4,
 "nbformat_minor": 0
}