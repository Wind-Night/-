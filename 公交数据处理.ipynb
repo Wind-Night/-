{
 "cells": [
  {
   "cell_type": "code",
   "execution_count": 1,
   "metadata": {
    "collapsed": true
   },
   "outputs": [],
   "source": [
    "import pandas as pd\n",
    "save_path='公交数据.csv'\n",
    "#只更改 公交数据.csv,改成你的数据命名\n",
    "# 最后会出现两个csv格式的文件\n",
    "# 一个是公交站点.csv，作为节点表格，数据格式选择gbk\n",
    "# 一个是公交线路.csv，作为边表格，数据格式选择gbk，边的权重代表了这两个公交站之间运营的公交线路的条数，\n",
    "#同一文件夹下输入数据名称，不同的化输入数据保存的绝对路径。"
   ]
  },
  {
   "cell_type": "code",
   "execution_count": 2,
   "metadata": {
    "pycharm": {
     "name": "#%%\n"
    }
   },
   "outputs": [],
   "source": [
    "data=pd.read_csv(save_path)\n",
    "datas=pd.DataFrame(data)\n",
    "a=datas.shape[0]#读取数据有多少行\n",
    "b=[]\n",
    "f=[]"
   ]
  },
  {
   "cell_type": "code",
   "execution_count": 3,
   "metadata": {
    "pycharm": {
     "name": "#%%\n"
    }
   },
   "outputs": [],
   "source": [
    "for i in range(0,a-1):\n",
    "    if datas.iloc[i,1] == datas.iloc[i+1,1]:\n",
    "        c=[datas.iloc[i,2],datas.iloc[i+1,2]]\n",
    "        b.append(c)\n",
    "#变量b储存相邻的公交站点\n",
    "#f变量存储储存相邻的公交站点和其经纬度"
   ]
  },
  {
   "cell_type": "code",
   "execution_count": 4,
   "metadata": {
    "pycharm": {
     "name": "#%%\n"
    }
   },
   "outputs": [],
   "source": [
    "d=pd.DataFrame(b)\n",
    "temp = [[name[0], name[1], len(group)] for name, group in d.groupby([0, 1])]\n",
    "#对相邻的公交站点进行去重和计算重复次数，重复次数代表这一路段经过的公交线路的条数\n",
    "data_re = pd.DataFrame(temp, columns=['source', 'target', 'Weight'])\n",
    "#更改列名\n",
    "data_re.to_csv('公交线路.csv',mode='a', header=True, index=False,encoding='ANSI')\n",
    "#公交线路.csv作为gephi实验的边表格"
   ]
  },
  {
   "cell_type": "code",
   "execution_count": 5,
   "metadata": {
    "pycharm": {
     "name": "#%%\n"
    }
   },
   "outputs": [],
   "source": [
    "A=datas.iloc[:,2]\n",
    "B=datas.iloc[:,2]\n",
    "C=datas.iloc[:,4]\n",
    "D=datas.iloc[:,3]\n",
    "df = pd.concat([pd.DataFrame(A),pd.DataFrame(B), pd.DataFrame(C), pd.DataFrame(D)], axis=1)\n",
    "data_re1 = df.drop_duplicates(subset='bus_Stop')\n",
    "#对公交站点进行去重\n",
    "data_re1.columns=['ID','LABEL','Lat','Lng']\n",
    "#更改列名\n",
    "data_re1.to_csv('公交站点.csv',mode='a', header=True, index=False,encoding='ANSI')\n",
    "#公交站点.csv作为gephi实验的节点表格\n",
    "#做一个小小的实验"
   ]
  },
  {
   "cell_type": "code",
   "execution_count": 19,
   "metadata": {
    "pycharm": {
     "name": "#%%\n"
    }
   },
   "outputs": [
    {
     "data": {
      "text/plain": "      Number                     bus_Name    bus_Stop  busstop_Longitude  \\\n0          1       1路(东站(环城南路)--西北部公交枢纽站)    东站(环城南路)         102.733550   \n1          1       1路(东站(环城南路)--西北部公交枢纽站)        市博物馆         102.728754   \n2          1       1路(东站(环城南路)--西北部公交枢纽站)       拓东路中段         102.723958   \n3          1       1路(东站(环城南路)--西北部公交枢纽站)         拓东路         102.718012   \n4          1       1路(东站(环城南路)--西北部公交枢纽站)    得胜桥(青年路)         102.716675   \n...      ...                          ...         ...                ...   \n7249     446           Z151路(眠山车场--城市山小区)       城市山小区         102.631558   \n7250     447  Z152路(西园路口(滇缅大道)--省建工医院生活区)  西园路口(滇缅大道)         102.679184   \n7251     447  Z152路(西园路口(滇缅大道)--省建工医院生活区)  昆建路口(虹山西路)         102.680367   \n7252     447  Z152路(西园路口(滇缅大道)--省建工医院生活区)         昆建路         102.680969   \n7253     447  Z152路(西园路口(滇缅大道)--省建工医院生活区)    省建工医院生活区         102.682687   \n\n      busstop_Latitude  distance_m_  straight_Distance  busstop_Longitude84  \\\n0            25.030291            0                  0           102.732076   \n1            25.033260          784                585           102.727286   \n2            25.033655          491                485           102.722497   \n3            25.033546          599                599           102.716560   \n4            25.035074          288                217           102.715226   \n...                ...          ...                ...                  ...   \n7249         25.037626          156                156           102.630300   \n7250         25.056524            0                  0           102.677817   \n7251         25.057726          208                179           102.678997   \n7252         25.057856          110                 62           102.679597   \n7253         25.057600          219                175           102.681311   \n\n      busstop_Latitude84  straight_Distance_HeadToTail  distance  basic_price  \\\n0              25.033244                        9937.8  13.50912            1   \n1              25.036216                        9937.8  13.50912            1   \n2              25.036615                        9937.8  13.50912            1   \n3              25.036512                        9937.8  13.50912            1   \n4              25.038042                        9937.8  13.50912            1   \n...                  ...                           ...       ...          ...   \n7249           25.040736                        1958.5   2.29595            1   \n7250           25.059550                         372.6   0.53615            1   \n7251           25.060750                         372.6   0.53615            1   \n7252           25.060878                         372.6   0.53615            1   \n7253           25.060619                         372.6   0.53615            1   \n\n      total_price  start_time  end_time      company  \n0               2       600.0    2200.0  昆明公交集团第一分公司  \n1               2       600.0    2200.0  昆明公交集团第一分公司  \n2               2       600.0    2200.0  昆明公交集团第一分公司  \n3               2       600.0    2200.0  昆明公交集团第一分公司  \n4               2       600.0    2200.0  昆明公交集团第一分公司  \n...           ...         ...       ...          ...  \n7249            2       700.0    1830.0     昆明城乡客运公司  \n7250            1       700.0    1900.0  昆明公交集团第一分公司  \n7251            1       700.0    1900.0  昆明公交集团第一分公司  \n7252            1       700.0    1900.0  昆明公交集团第一分公司  \n7253            1       700.0    1900.0  昆明公交集团第一分公司  \n\n[7254 rows x 16 columns]",
      "text/html": "<div>\n<style scoped>\n    .dataframe tbody tr th:only-of-type {\n        vertical-align: middle;\n    }\n\n    .dataframe tbody tr th {\n        vertical-align: top;\n    }\n\n    .dataframe thead th {\n        text-align: right;\n    }\n</style>\n<table border=\"1\" class=\"dataframe\">\n  <thead>\n    <tr style=\"text-align: right;\">\n      <th></th>\n      <th>Number</th>\n      <th>bus_Name</th>\n      <th>bus_Stop</th>\n      <th>busstop_Longitude</th>\n      <th>busstop_Latitude</th>\n      <th>distance_m_</th>\n      <th>straight_Distance</th>\n      <th>busstop_Longitude84</th>\n      <th>busstop_Latitude84</th>\n      <th>straight_Distance_HeadToTail</th>\n      <th>distance</th>\n      <th>basic_price</th>\n      <th>total_price</th>\n      <th>start_time</th>\n      <th>end_time</th>\n      <th>company</th>\n    </tr>\n  </thead>\n  <tbody>\n    <tr>\n      <th>0</th>\n      <td>1</td>\n      <td>1路(东站(环城南路)--西北部公交枢纽站)</td>\n      <td>东站(环城南路)</td>\n      <td>102.733550</td>\n      <td>25.030291</td>\n      <td>0</td>\n      <td>0</td>\n      <td>102.732076</td>\n      <td>25.033244</td>\n      <td>9937.8</td>\n      <td>13.50912</td>\n      <td>1</td>\n      <td>2</td>\n      <td>600.0</td>\n      <td>2200.0</td>\n      <td>昆明公交集团第一分公司</td>\n    </tr>\n    <tr>\n      <th>1</th>\n      <td>1</td>\n      <td>1路(东站(环城南路)--西北部公交枢纽站)</td>\n      <td>市博物馆</td>\n      <td>102.728754</td>\n      <td>25.033260</td>\n      <td>784</td>\n      <td>585</td>\n      <td>102.727286</td>\n      <td>25.036216</td>\n      <td>9937.8</td>\n      <td>13.50912</td>\n      <td>1</td>\n      <td>2</td>\n      <td>600.0</td>\n      <td>2200.0</td>\n      <td>昆明公交集团第一分公司</td>\n    </tr>\n    <tr>\n      <th>2</th>\n      <td>1</td>\n      <td>1路(东站(环城南路)--西北部公交枢纽站)</td>\n      <td>拓东路中段</td>\n      <td>102.723958</td>\n      <td>25.033655</td>\n      <td>491</td>\n      <td>485</td>\n      <td>102.722497</td>\n      <td>25.036615</td>\n      <td>9937.8</td>\n      <td>13.50912</td>\n      <td>1</td>\n      <td>2</td>\n      <td>600.0</td>\n      <td>2200.0</td>\n      <td>昆明公交集团第一分公司</td>\n    </tr>\n    <tr>\n      <th>3</th>\n      <td>1</td>\n      <td>1路(东站(环城南路)--西北部公交枢纽站)</td>\n      <td>拓东路</td>\n      <td>102.718012</td>\n      <td>25.033546</td>\n      <td>599</td>\n      <td>599</td>\n      <td>102.716560</td>\n      <td>25.036512</td>\n      <td>9937.8</td>\n      <td>13.50912</td>\n      <td>1</td>\n      <td>2</td>\n      <td>600.0</td>\n      <td>2200.0</td>\n      <td>昆明公交集团第一分公司</td>\n    </tr>\n    <tr>\n      <th>4</th>\n      <td>1</td>\n      <td>1路(东站(环城南路)--西北部公交枢纽站)</td>\n      <td>得胜桥(青年路)</td>\n      <td>102.716675</td>\n      <td>25.035074</td>\n      <td>288</td>\n      <td>217</td>\n      <td>102.715226</td>\n      <td>25.038042</td>\n      <td>9937.8</td>\n      <td>13.50912</td>\n      <td>1</td>\n      <td>2</td>\n      <td>600.0</td>\n      <td>2200.0</td>\n      <td>昆明公交集团第一分公司</td>\n    </tr>\n    <tr>\n      <th>...</th>\n      <td>...</td>\n      <td>...</td>\n      <td>...</td>\n      <td>...</td>\n      <td>...</td>\n      <td>...</td>\n      <td>...</td>\n      <td>...</td>\n      <td>...</td>\n      <td>...</td>\n      <td>...</td>\n      <td>...</td>\n      <td>...</td>\n      <td>...</td>\n      <td>...</td>\n      <td>...</td>\n    </tr>\n    <tr>\n      <th>7249</th>\n      <td>446</td>\n      <td>Z151路(眠山车场--城市山小区)</td>\n      <td>城市山小区</td>\n      <td>102.631558</td>\n      <td>25.037626</td>\n      <td>156</td>\n      <td>156</td>\n      <td>102.630300</td>\n      <td>25.040736</td>\n      <td>1958.5</td>\n      <td>2.29595</td>\n      <td>1</td>\n      <td>2</td>\n      <td>700.0</td>\n      <td>1830.0</td>\n      <td>昆明城乡客运公司</td>\n    </tr>\n    <tr>\n      <th>7250</th>\n      <td>447</td>\n      <td>Z152路(西园路口(滇缅大道)--省建工医院生活区)</td>\n      <td>西园路口(滇缅大道)</td>\n      <td>102.679184</td>\n      <td>25.056524</td>\n      <td>0</td>\n      <td>0</td>\n      <td>102.677817</td>\n      <td>25.059550</td>\n      <td>372.6</td>\n      <td>0.53615</td>\n      <td>1</td>\n      <td>1</td>\n      <td>700.0</td>\n      <td>1900.0</td>\n      <td>昆明公交集团第一分公司</td>\n    </tr>\n    <tr>\n      <th>7251</th>\n      <td>447</td>\n      <td>Z152路(西园路口(滇缅大道)--省建工医院生活区)</td>\n      <td>昆建路口(虹山西路)</td>\n      <td>102.680367</td>\n      <td>25.057726</td>\n      <td>208</td>\n      <td>179</td>\n      <td>102.678997</td>\n      <td>25.060750</td>\n      <td>372.6</td>\n      <td>0.53615</td>\n      <td>1</td>\n      <td>1</td>\n      <td>700.0</td>\n      <td>1900.0</td>\n      <td>昆明公交集团第一分公司</td>\n    </tr>\n    <tr>\n      <th>7252</th>\n      <td>447</td>\n      <td>Z152路(西园路口(滇缅大道)--省建工医院生活区)</td>\n      <td>昆建路</td>\n      <td>102.680969</td>\n      <td>25.057856</td>\n      <td>110</td>\n      <td>62</td>\n      <td>102.679597</td>\n      <td>25.060878</td>\n      <td>372.6</td>\n      <td>0.53615</td>\n      <td>1</td>\n      <td>1</td>\n      <td>700.0</td>\n      <td>1900.0</td>\n      <td>昆明公交集团第一分公司</td>\n    </tr>\n    <tr>\n      <th>7253</th>\n      <td>447</td>\n      <td>Z152路(西园路口(滇缅大道)--省建工医院生活区)</td>\n      <td>省建工医院生活区</td>\n      <td>102.682687</td>\n      <td>25.057600</td>\n      <td>219</td>\n      <td>175</td>\n      <td>102.681311</td>\n      <td>25.060619</td>\n      <td>372.6</td>\n      <td>0.53615</td>\n      <td>1</td>\n      <td>1</td>\n      <td>700.0</td>\n      <td>1900.0</td>\n      <td>昆明公交集团第一分公司</td>\n    </tr>\n  </tbody>\n</table>\n<p>7254 rows × 16 columns</p>\n</div>"
     },
     "execution_count": 19,
     "metadata": {},
     "output_type": "execute_result"
    }
   ],
   "source": [
    "dot=datas['bus_Stop'].unique()\n",
    "xianlu=pd.concat([pd.DataFrame(datas['bus_Name'].unique()),pd.DataFrame(datas['bus_Name'].unique())], axis=1)\n",
    "xianlu.columns=['ID','LABEL']\n",
    "datas\n"
   ]
  },
  {
   "cell_type": "code",
   "execution_count": 24,
   "metadata": {
    "pycharm": {
     "name": "#%%\n"
    }
   },
   "outputs": [],
   "source": [
    "dot\n",
    "c=[]\n",
    "d=[]\n",
    "for i in dot:\n",
    "    a=datas[datas['bus_Stop']==i]\n",
    "    b=a.drop_duplicates()\n",
    "    if b.shape[0]>=2:\n",
    "        for i in range(0,b.shape[0]-2):\n",
    "            c=[b.iloc[i,1],b.iloc[i+1,1]]\n",
    "            d.append(c)\n",
    "d=pd.DataFrame(d)"
   ]
  },
  {
   "cell_type": "code",
   "execution_count": 33,
   "outputs": [
    {
     "data": {
      "text/plain": "                                 0                        1\n0           1路(东站(环城南路)--西北部公交枢纽站)   25路(昆明站(北京路)--北部公交枢纽站)\n1           25路(昆明站(北京路)--北部公交枢纽站)        28路(盛惠园小区--巫家坝车场)\n2                28路(盛惠园小区--巫家坝车场)        51路(公交东部修理公司--高峣)\n3                51路(公交东部修理公司--高峣)   75路(西南林业大学(南院路)--眠山车场)\n4           75路(西南林业大学(南院路)--眠山车场)         78路(菊花村--湖畔之梦小区)\n...                            ...                      ...\n3837     Z38路(白沙润园小区北--北京路口(北辰大道))  Z110路(东部公交枢纽站--白沙润园小区北)\n3838  Z39路(水节箐新村下段--西北部公交枢纽站(小屯路))      Z41路(大漾田公交首末站--黄土坡)\n3839     Z105路(彩云南路口(朝云街)--众和康园南门)  Z106路(石碑村(兴呈路)--众和康园南门)\n3840     Z105路(彩云南路口(朝云街)--众和康园南门)  Z106路(石碑村(兴呈路)--众和康园南门)\n3841          Z113路(马街(春雨路)--马街中村)       Z151路(眠山车场--城市山小区)\n\n[3842 rows x 2 columns]",
      "text/html": "<div>\n<style scoped>\n    .dataframe tbody tr th:only-of-type {\n        vertical-align: middle;\n    }\n\n    .dataframe tbody tr th {\n        vertical-align: top;\n    }\n\n    .dataframe thead th {\n        text-align: right;\n    }\n</style>\n<table border=\"1\" class=\"dataframe\">\n  <thead>\n    <tr style=\"text-align: right;\">\n      <th></th>\n      <th>0</th>\n      <th>1</th>\n    </tr>\n  </thead>\n  <tbody>\n    <tr>\n      <th>0</th>\n      <td>1路(东站(环城南路)--西北部公交枢纽站)</td>\n      <td>25路(昆明站(北京路)--北部公交枢纽站)</td>\n    </tr>\n    <tr>\n      <th>1</th>\n      <td>25路(昆明站(北京路)--北部公交枢纽站)</td>\n      <td>28路(盛惠园小区--巫家坝车场)</td>\n    </tr>\n    <tr>\n      <th>2</th>\n      <td>28路(盛惠园小区--巫家坝车场)</td>\n      <td>51路(公交东部修理公司--高峣)</td>\n    </tr>\n    <tr>\n      <th>3</th>\n      <td>51路(公交东部修理公司--高峣)</td>\n      <td>75路(西南林业大学(南院路)--眠山车场)</td>\n    </tr>\n    <tr>\n      <th>4</th>\n      <td>75路(西南林业大学(南院路)--眠山车场)</td>\n      <td>78路(菊花村--湖畔之梦小区)</td>\n    </tr>\n    <tr>\n      <th>...</th>\n      <td>...</td>\n      <td>...</td>\n    </tr>\n    <tr>\n      <th>3837</th>\n      <td>Z38路(白沙润园小区北--北京路口(北辰大道))</td>\n      <td>Z110路(东部公交枢纽站--白沙润园小区北)</td>\n    </tr>\n    <tr>\n      <th>3838</th>\n      <td>Z39路(水节箐新村下段--西北部公交枢纽站(小屯路))</td>\n      <td>Z41路(大漾田公交首末站--黄土坡)</td>\n    </tr>\n    <tr>\n      <th>3839</th>\n      <td>Z105路(彩云南路口(朝云街)--众和康园南门)</td>\n      <td>Z106路(石碑村(兴呈路)--众和康园南门)</td>\n    </tr>\n    <tr>\n      <th>3840</th>\n      <td>Z105路(彩云南路口(朝云街)--众和康园南门)</td>\n      <td>Z106路(石碑村(兴呈路)--众和康园南门)</td>\n    </tr>\n    <tr>\n      <th>3841</th>\n      <td>Z113路(马街(春雨路)--马街中村)</td>\n      <td>Z151路(眠山车场--城市山小区)</td>\n    </tr>\n  </tbody>\n</table>\n<p>3842 rows × 2 columns</p>\n</div>"
     },
     "execution_count": 33,
     "metadata": {},
     "output_type": "execute_result"
    }
   ],
   "source": [
    "\n",
    "temp = [[name[0], name[1], len(group)] for name, group in d.groupby([0, 1])]\n",
    "data_re = pd.DataFrame(temp, columns=['source', 'target', 'Weight'])\n",
    "d"
   ],
   "metadata": {
    "collapsed": false,
    "pycharm": {
     "name": "#%%\n"
    }
   }
  },
  {
   "cell_type": "code",
   "execution_count": 34,
   "outputs": [],
   "source": [
    "xianlu.to_csv('公交站点-对偶.csv',mode='a', header=True, index=False,encoding='ANSI')\n",
    "data_re.to_csv('公交线路-对偶.csv',mode='a', header=True, index=False,encoding='ANSI')"
   ],
   "metadata": {
    "collapsed": false,
    "pycharm": {
     "name": "#%%\n"
    }
   }
  }
 ],
 "metadata": {
  "kernelspec": {
   "name": "pycharm-8a57d474",
   "language": "python",
   "display_name": "PyCharm (项目学习)"
  },
  "language_info": {
   "codemirror_mode": {
    "name": "ipython",
    "version": 3
   },
   "file_extension": ".py",
   "mimetype": "text/x-python",
   "name": "python",
   "nbconvert_exporter": "python",
   "pygments_lexer": "ipython3",
   "version": "3.9.1"
  }
 },
 "nbformat": 4,
 "nbformat_minor": 1
}