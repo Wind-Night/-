{
 "cells": [
  {
   "cell_type": "code",
   "execution_count": 11,
   "metadata": {
    "collapsed": true
   },
   "outputs": [],
   "source": [
    "import pandas as pd\n",
    "import networkx as nx\n",
    "import random as rd\n",
    "import matplotlib.pyplot as plt\n",
    "side_path = '公交线路.csv'\n",
    "dot_path = '公交站点.csv'\n",
    "#请用公交数据处理.py处理过的数据进行使用"
   ]
  },
  {
   "cell_type": "code",
   "execution_count": 12,
   "metadata": {
    "pycharm": {
     "name": "#%%\n"
    }
   },
   "outputs": [
    {
     "data": {
      "text/plain": "         source     target  Weight\n0        1号学生食堂    云艺公共教学楼       1\n1           6号路  凤庆路口(双羊街)       1\n2           6号路   天文台(金马路)       2\n3           6号路      金马路中段       1\n4         920医院   东陆桥(西园路)       1\n...         ...        ...     ...\n4082   龙马村(珥季路)  龙马村东(珥季路)       1\n4083  龙马村东(珥季路)   中航城(珥季路)       1\n4084  龙马村东(珥季路)   龙马村(珥季路)       1\n4085    龙马社区居委会    中营(云秀路)       4\n4086    龙马社区居委会   龙马村(云秀路)       1\n\n[4087 rows x 3 columns]",
      "text/html": "<div>\n<style scoped>\n    .dataframe tbody tr th:only-of-type {\n        vertical-align: middle;\n    }\n\n    .dataframe tbody tr th {\n        vertical-align: top;\n    }\n\n    .dataframe thead th {\n        text-align: right;\n    }\n</style>\n<table border=\"1\" class=\"dataframe\">\n  <thead>\n    <tr style=\"text-align: right;\">\n      <th></th>\n      <th>source</th>\n      <th>target</th>\n      <th>Weight</th>\n    </tr>\n  </thead>\n  <tbody>\n    <tr>\n      <th>0</th>\n      <td>1号学生食堂</td>\n      <td>云艺公共教学楼</td>\n      <td>1</td>\n    </tr>\n    <tr>\n      <th>1</th>\n      <td>6号路</td>\n      <td>凤庆路口(双羊街)</td>\n      <td>1</td>\n    </tr>\n    <tr>\n      <th>2</th>\n      <td>6号路</td>\n      <td>天文台(金马路)</td>\n      <td>2</td>\n    </tr>\n    <tr>\n      <th>3</th>\n      <td>6号路</td>\n      <td>金马路中段</td>\n      <td>1</td>\n    </tr>\n    <tr>\n      <th>4</th>\n      <td>920医院</td>\n      <td>东陆桥(西园路)</td>\n      <td>1</td>\n    </tr>\n    <tr>\n      <th>...</th>\n      <td>...</td>\n      <td>...</td>\n      <td>...</td>\n    </tr>\n    <tr>\n      <th>4082</th>\n      <td>龙马村(珥季路)</td>\n      <td>龙马村东(珥季路)</td>\n      <td>1</td>\n    </tr>\n    <tr>\n      <th>4083</th>\n      <td>龙马村东(珥季路)</td>\n      <td>中航城(珥季路)</td>\n      <td>1</td>\n    </tr>\n    <tr>\n      <th>4084</th>\n      <td>龙马村东(珥季路)</td>\n      <td>龙马村(珥季路)</td>\n      <td>1</td>\n    </tr>\n    <tr>\n      <th>4085</th>\n      <td>龙马社区居委会</td>\n      <td>中营(云秀路)</td>\n      <td>4</td>\n    </tr>\n    <tr>\n      <th>4086</th>\n      <td>龙马社区居委会</td>\n      <td>龙马村(云秀路)</td>\n      <td>1</td>\n    </tr>\n  </tbody>\n</table>\n<p>4087 rows × 3 columns</p>\n</div>"
     },
     "execution_count": 12,
     "metadata": {},
     "output_type": "execute_result"
    }
   ],
   "source": [
    "side1 = pd.read_csv(side_path, encoding='gbk')\n",
    "dot1 = pd.read_csv(dot_path, encoding='gbk')\n",
    "side_b = pd.DataFrame(side1)\n",
    "dot2 = pd.DataFrame(dot1)\n",
    "side_b"
   ]
  },
  {
   "cell_type": "code",
   "execution_count": 13,
   "metadata": {
    "pycharm": {
     "name": "#%%\n"
    }
   },
   "outputs": [],
   "source": [
    "\n",
    "dot = list(dot2.iloc[:, 0])"
   ]
  },
  {
   "cell_type": "code",
   "execution_count": 14,
   "outputs": [],
   "source": [
    "def degree_averge(G):\n",
    "    degree =  nx.degree_histogram(G)\n",
    "    i=0\n",
    "    i1=0\n",
    "    i2=0\n",
    "    for s in degree:\n",
    "        i1+=i*s\n",
    "        i+=1\n",
    "        i2+=s\n",
    "    f=i1/i2\n",
    "    return f\n",
    "\n"
   ],
   "metadata": {
    "collapsed": false,
    "pycharm": {
     "name": "#%%\n"
    }
   }
  },
  {
   "cell_type": "code",
   "execution_count": 15,
   "outputs": [],
   "source": [
    "def attack(dot,side_b):\n",
    "    G1=nx.Graph()\n",
    "\n",
    "    nodes=[]\n",
    "    for i in dot:\n",
    "        a=rd.random()\n",
    "        if p<=a:\n",
    "            G1.add_node(i)\n",
    "\n",
    "            nodes.append(i)\n",
    "        else:\n",
    "            side_b=side_b[~side_b['source'].isin([i])]\n",
    "            side_b=side_b[~side_b['target'].isin([i])]\n",
    "    side_q = list(side_b.iloc[:, 0])\n",
    "    side_z = list(side_b.iloc[:, 1])\n",
    "    for i in range(0,len(side_z)-1):\n",
    "        G1.add_edge(side_q[i],side_z[i])\n",
    "    return [G1,nodes]"
   ],
   "metadata": {
    "collapsed": false,
    "pycharm": {
     "name": "#%%\n"
    }
   }
  },
  {
   "cell_type": "code",
   "execution_count": 16,
   "outputs": [],
   "source": [
    "a=[]\n",
    "for i in range(0,100):\n",
    "    p=i*0.01\n",
    "    G=attack(dot,side_b)[0]\n",
    "    nodes=attack(dot,side_b)[1]\n",
    "    a.append(nx.global_efficiency(G))\n",
    "\n"
   ],
   "metadata": {
    "collapsed": false,
    "pycharm": {
     "name": "#%%\n"
    }
   }
  },
  {
   "cell_type": "code",
   "execution_count": 19,
   "outputs": [
    {
     "data": {
      "text/plain": "<Figure size 432x288 with 1 Axes>",
      "image/png": "[encoded data removed]"
     },
     "metadata": {
      "needs_background": "light"
     },
     "output_type": "display_data"
    }
   ],
   "source": [
    "fig=plt.figure()\n",
    "ax=fig.add_axes([0,0,1,1])\n",
    "grades_range = range(0,100,1)\n",
    "plt.rcParams[\"font.sans-serif\"]=[\"SimHei\"] #设置字体\n",
    "plt.rcParams[\"axes.unicode_minus\"]=False #正常显示负号\n",
    "ax.scatter(grades_range, a, color='b',label=\"网络效率\")\n",
    "ax.set_xlabel('节点失效比例')\n",
    "ax.set_ylabel('网络效率')\n",
    "ax.set_title('随机攻击策略')\n",
    "#添加图例\n",
    "plt.legend()\n",
    "plt.show()"
   ],
   "metadata": {
    "collapsed": false,
    "pycharm": {
     "name": "#%%\n"
    }
   }
  },
  {
   "cell_type": "code",
   "execution_count": null,
   "outputs": [],
   "source": [
    "len(grades_range)\n",
    "\n"
   ],
   "metadata": {
    "collapsed": false,
    "pycharm": {
     "name": "#%%\n"
    }
   }
  }
 ],
 "metadata": {
  "kernelspec": {
   "name": "pycharm-8a57d474",
   "language": "python",
   "display_name": "PyCharm (项目学习)"
  },
  "language_info": {
   "codemirror_mode": {
    "name": "ipython",
    "version": 3
   },
   "file_extension": ".py",
   "mimetype": "text/x-python",
   "name": "python",
   "nbconvert_exporter": "python",
   "pygments_lexer": "ipython3",
   "version": "3.9.1"
  }
 },
 "nbformat": 4,
 "nbformat_minor": 1
}