{
 "cells": [
  {
   "cell_type": "code",
   "execution_count": null,
   "metadata": {
    "collapsed": true,
    "pycharm": {
     "is_executing": true
    }
   },
   "outputs": [],
   "source": [
    "import pandas as pd\n",
    "import networkx as nx\n",
    "import random as rd\n",
    "side_path = 'D:\\study\\交通数据分析\\公交线路.csv'\n",
    "dot_path = 'D:\\study\\交通数据分析\\公交站点.csv'"
   ]
  },
  {
   "cell_type": "code",
   "execution_count": null,
   "metadata": {
    "pycharm": {
     "name": "#%%\n",
     "is_executing": true
    }
   },
   "outputs": [],
   "source": [
    "side1 = pd.read_csv(side_path, encoding='gbk')\n",
    "dot1 = pd.read_csv(dot_path, encoding='gbk')\n",
    "side_b = pd.DataFrame(side1)\n",
    "dot2 = pd.DataFrame(dot1)\n",
    "side_b"
   ]
  },
  {
   "cell_type": "code",
   "execution_count": null,
   "metadata": {
    "pycharm": {
     "name": "#%%\n",
     "is_executing": true
    }
   },
   "outputs": [],
   "source": [
    "\n",
    "dot = list(dot2.iloc[:, 0])"
   ]
  },
  {
   "cell_type": "code",
   "execution_count": null,
   "outputs": [],
   "source": [
    "def degree_averge(G):\n",
    "    degree =  nx.degree_histogram(G)\n",
    "    i=0\n",
    "    i1=0\n",
    "    i2=0\n",
    "    for s in degree:\n",
    "        i1+=i*s\n",
    "        i+=1\n",
    "        i2+=s\n",
    "    f=i1/i2\n",
    "    return f\n",
    "\n"
   ],
   "metadata": {
    "collapsed": false,
    "pycharm": {
     "name": "#%%\n",
     "is_executing": true
    }
   }
  },
  {
   "cell_type": "code",
   "execution_count": null,
   "outputs": [],
   "source": [
    "def attack(dot,side_b):\n",
    "    G1=nx.Graph()\n",
    "\n",
    "    nodes=[]\n",
    "    for i in dot:\n",
    "        a=rd.random()\n",
    "        if p<=a:\n",
    "            G1.add_node(i)\n",
    "\n",
    "            nodes.append(i)\n",
    "        else:\n",
    "            side_b=side_b[~side_b['source'].isin([i])]\n",
    "            side_b=side_b[~side_b['target'].isin([i])]\n",
    "    side_q = list(side_b.iloc[:, 0])\n",
    "    side_z = list(side_b.iloc[:, 1])\n",
    "    for i in range(0,len(side_z)-1):\n",
    "        G1.add_edge(side_q[i],side_z[i])\n",
    "    return [G1,nodes]"
   ],
   "metadata": {
    "collapsed": false,
    "pycharm": {
     "name": "#%%\n",
     "is_executing": true
    }
   }
  },
  {
   "cell_type": "code",
   "execution_count": null,
   "outputs": [],
   "source": [
    "p=0\n",
    "G=attack(dot,side_b)[0]\n",
    "nodes=attack(dot,side_b)[1]\n",
    "nx.global_efficiency(G)\n",
    "print('hh')"
   ],
   "metadata": {
    "collapsed": false,
    "pycharm": {
     "name": "#%%\n",
     "is_executing": true
    }
   }
  }
 ],
 "metadata": {
  "kernelspec": {
   "name": "pycharm-8a57d474",
   "language": "python",
   "display_name": "PyCharm (项目学习)"
  },
  "language_info": {
   "codemirror_mode": {
    "name": "ipython",
    "version": 3
   },
   "file_extension": ".py",
   "mimetype": "text/x-python",
   "name": "python",
   "nbconvert_exporter": "python",
   "pygments_lexer": "ipython3",
   "version": "3.9.1"
  }
 },
 "nbformat": 4,
 "nbformat_minor": 1
}