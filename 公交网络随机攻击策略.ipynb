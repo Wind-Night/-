{
 "cells": [
  {
   "cell_type": "code",
   "execution_count": 138,
   "metadata": {
    "collapsed": true
   },
   "outputs": [],
   "source": [
    "import pandas as pd\n",
    "import networkx as nx\n",
    "\n",
    "side_path = 'D:\\study\\交通数据分析\\公交线路.csv'\n",
    "dot_path = 'D:\\study\\交通数据分析\\公交站点.csv'"
   ]
  },
  {
   "cell_type": "code",
   "execution_count": 139,
   "metadata": {
    "pycharm": {
     "name": "#%%\n"
    }
   },
   "outputs": [
    {
     "data": {
      "text/plain": "         source     target  Weight\n0        1号学生食堂    云艺公共教学楼       1\n1           6号路  凤庆路口(双羊街)       1\n2           6号路   天文台(金马路)       2\n3           6号路      金马路中段       1\n4         920医院   东陆桥(西园路)       1\n...         ...        ...     ...\n4082   龙马村(珥季路)  龙马村东(珥季路)       1\n4083  龙马村东(珥季路)   中航城(珥季路)       1\n4084  龙马村东(珥季路)   龙马村(珥季路)       1\n4085    龙马社区居委会    中营(云秀路)       4\n4086    龙马社区居委会   龙马村(云秀路)       1\n\n[4087 rows x 3 columns]",
      "text/html": "<div>\n<style scoped>\n    .dataframe tbody tr th:only-of-type {\n        vertical-align: middle;\n    }\n\n    .dataframe tbody tr th {\n        vertical-align: top;\n    }\n\n    .dataframe thead th {\n        text-align: right;\n    }\n</style>\n<table border=\"1\" class=\"dataframe\">\n  <thead>\n    <tr style=\"text-align: right;\">\n      <th></th>\n      <th>source</th>\n      <th>target</th>\n      <th>Weight</th>\n    </tr>\n  </thead>\n  <tbody>\n    <tr>\n      <th>0</th>\n      <td>1号学生食堂</td>\n      <td>云艺公共教学楼</td>\n      <td>1</td>\n    </tr>\n    <tr>\n      <th>1</th>\n      <td>6号路</td>\n      <td>凤庆路口(双羊街)</td>\n      <td>1</td>\n    </tr>\n    <tr>\n      <th>2</th>\n      <td>6号路</td>\n      <td>天文台(金马路)</td>\n      <td>2</td>\n    </tr>\n    <tr>\n      <th>3</th>\n      <td>6号路</td>\n      <td>金马路中段</td>\n      <td>1</td>\n    </tr>\n    <tr>\n      <th>4</th>\n      <td>920医院</td>\n      <td>东陆桥(西园路)</td>\n      <td>1</td>\n    </tr>\n    <tr>\n      <th>...</th>\n      <td>...</td>\n      <td>...</td>\n      <td>...</td>\n    </tr>\n    <tr>\n      <th>4082</th>\n      <td>龙马村(珥季路)</td>\n      <td>龙马村东(珥季路)</td>\n      <td>1</td>\n    </tr>\n    <tr>\n      <th>4083</th>\n      <td>龙马村东(珥季路)</td>\n      <td>中航城(珥季路)</td>\n      <td>1</td>\n    </tr>\n    <tr>\n      <th>4084</th>\n      <td>龙马村东(珥季路)</td>\n      <td>龙马村(珥季路)</td>\n      <td>1</td>\n    </tr>\n    <tr>\n      <th>4085</th>\n      <td>龙马社区居委会</td>\n      <td>中营(云秀路)</td>\n      <td>4</td>\n    </tr>\n    <tr>\n      <th>4086</th>\n      <td>龙马社区居委会</td>\n      <td>龙马村(云秀路)</td>\n      <td>1</td>\n    </tr>\n  </tbody>\n</table>\n<p>4087 rows × 3 columns</p>\n</div>"
     },
     "execution_count": 139,
     "metadata": {},
     "output_type": "execute_result"
    }
   ],
   "source": [
    "side1 = pd.read_csv(side_path, encoding='gbk')\n",
    "dot1 = pd.read_csv(dot_path, encoding='gbk')\n",
    "side2 = pd.DataFrame(side1)\n",
    "dot2 = pd.DataFrame(dot1)\n",
    "side2"
   ]
  },
  {
   "cell_type": "code",
   "execution_count": 140,
   "metadata": {
    "pycharm": {
     "name": "#%%\n"
    }
   },
   "outputs": [
    {
     "data": {
      "text/plain": "              ID       LABEL        Lat         Lng\n0       东站(环城南路)    东站(环城南路)  25.030291  102.733550\n1           市博物馆        市博物馆  25.033260  102.728754\n2          拓东路中段       拓东路中段  25.033655  102.723958\n3            拓东路         拓东路  25.033546  102.718012\n4       得胜桥(青年路)    得胜桥(青年路)  25.035074  102.716675\n...          ...         ...        ...         ...\n2179       城市山小区       城市山小区  25.037626  102.631558\n2180  西园路口(滇缅大道)  西园路口(滇缅大道)  25.056524  102.679184\n2181  昆建路口(虹山西路)  昆建路口(虹山西路)  25.057726  102.680367\n2182         昆建路         昆建路  25.057856  102.680969\n2183    省建工医院生活区    省建工医院生活区  25.057600  102.682687\n\n[2184 rows x 4 columns]",
      "text/html": "<div>\n<style scoped>\n    .dataframe tbody tr th:only-of-type {\n        vertical-align: middle;\n    }\n\n    .dataframe tbody tr th {\n        vertical-align: top;\n    }\n\n    .dataframe thead th {\n        text-align: right;\n    }\n</style>\n<table border=\"1\" class=\"dataframe\">\n  <thead>\n    <tr style=\"text-align: right;\">\n      <th></th>\n      <th>ID</th>\n      <th>LABEL</th>\n      <th>Lat</th>\n      <th>Lng</th>\n    </tr>\n  </thead>\n  <tbody>\n    <tr>\n      <th>0</th>\n      <td>东站(环城南路)</td>\n      <td>东站(环城南路)</td>\n      <td>25.030291</td>\n      <td>102.733550</td>\n    </tr>\n    <tr>\n      <th>1</th>\n      <td>市博物馆</td>\n      <td>市博物馆</td>\n      <td>25.033260</td>\n      <td>102.728754</td>\n    </tr>\n    <tr>\n      <th>2</th>\n      <td>拓东路中段</td>\n      <td>拓东路中段</td>\n      <td>25.033655</td>\n      <td>102.723958</td>\n    </tr>\n    <tr>\n      <th>3</th>\n      <td>拓东路</td>\n      <td>拓东路</td>\n      <td>25.033546</td>\n      <td>102.718012</td>\n    </tr>\n    <tr>\n      <th>4</th>\n      <td>得胜桥(青年路)</td>\n      <td>得胜桥(青年路)</td>\n      <td>25.035074</td>\n      <td>102.716675</td>\n    </tr>\n    <tr>\n      <th>...</th>\n      <td>...</td>\n      <td>...</td>\n      <td>...</td>\n      <td>...</td>\n    </tr>\n    <tr>\n      <th>2179</th>\n      <td>城市山小区</td>\n      <td>城市山小区</td>\n      <td>25.037626</td>\n      <td>102.631558</td>\n    </tr>\n    <tr>\n      <th>2180</th>\n      <td>西园路口(滇缅大道)</td>\n      <td>西园路口(滇缅大道)</td>\n      <td>25.056524</td>\n      <td>102.679184</td>\n    </tr>\n    <tr>\n      <th>2181</th>\n      <td>昆建路口(虹山西路)</td>\n      <td>昆建路口(虹山西路)</td>\n      <td>25.057726</td>\n      <td>102.680367</td>\n    </tr>\n    <tr>\n      <th>2182</th>\n      <td>昆建路</td>\n      <td>昆建路</td>\n      <td>25.057856</td>\n      <td>102.680969</td>\n    </tr>\n    <tr>\n      <th>2183</th>\n      <td>省建工医院生活区</td>\n      <td>省建工医院生活区</td>\n      <td>25.057600</td>\n      <td>102.682687</td>\n    </tr>\n  </tbody>\n</table>\n<p>2184 rows × 4 columns</p>\n</div>"
     },
     "execution_count": 140,
     "metadata": {},
     "output_type": "execute_result"
    }
   ],
   "source": [
    "dot2"
   ]
  },
  {
   "cell_type": "code",
   "execution_count": 141,
   "metadata": {
    "pycharm": {
     "name": "#%%\n"
    }
   },
   "outputs": [],
   "source": [
    "side_q = list(side2.iloc[:, 0])\n",
    "side_z = list(side2.iloc[:, 1])\n",
    "weights= list(side2.iloc[:,2])\n",
    "dot = list(dot2.iloc[:, 0])"
   ]
  },
  {
   "cell_type": "code",
   "execution_count": 142,
   "metadata": {
    "pycharm": {
     "name": "#%%\n"
    }
   },
   "outputs": [],
   "source": [
    "G=nx.Graph()\n",
    "G.add_nodes_from(dot)\n",
    "for i in range(0,len(side_z)-1):\n",
    "    G.add_edge(side_q[i],side_z[i],weight=weights[i])"
   ]
  },
  {
   "cell_type": "code",
   "execution_count": 150,
   "outputs": [
    {
     "data": {
      "text/plain": "3.1346153846153846"
     },
     "execution_count": 150,
     "metadata": {},
     "output_type": "execute_result"
    }
   ],
   "source": [
    "degree =  nx.degree_histogram(G)\n",
    "i=0\n",
    "i1=0\n",
    "i2=0\n",
    "for s in degree:\n",
    "    i1+=i*s\n",
    "    i+=1\n",
    "    i2+=s\n",
    "f=i1/i2\n",
    "f"
   ],
   "metadata": {
    "collapsed": false,
    "pycharm": {
     "name": "#%%\n"
    }
   }
  }
 ],
 "metadata": {
  "kernelspec": {
   "display_name": "Python 3",
   "language": "python",
   "name": "python3"
  },
  "language_info": {
   "codemirror_mode": {
    "name": "ipython",
    "version": 3
   },
   "file_extension": ".py",
   "mimetype": "text/x-python",
   "name": "python",
   "nbconvert_exporter": "python",
   "pygments_lexer": "ipython3",
   "version": "3.9.1"
  }
 },
 "nbformat": 4,
 "nbformat_minor": 1
}