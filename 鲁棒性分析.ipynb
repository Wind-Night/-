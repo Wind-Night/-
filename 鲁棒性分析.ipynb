{
 "cells": [
  {
   "cell_type": "code",
   "execution_count": 87,
   "metadata": {
    "collapsed": true
   },
   "outputs": [],
   "source": [
    "import pandas as pd\n",
    "import networkx as nx\n",
    "import random as rd\n",
    "import matplotlib.pyplot as plt\n",
    "\n",
    "side_path = '公交线路.csv'\n",
    "dot_path = '公交站点.csv'\n",
    "#请用公交数据处理.py处理过的数据进行使用\n",
    "#只要格式与范例数据一样也可使用"
   ]
  },
  {
   "cell_type": "code",
   "execution_count": 88,
   "metadata": {
    "pycharm": {
     "name": "#%%\n"
    }
   },
   "outputs": [
    {
     "data": {
      "text/plain": "         source     target  Weight\n0        1号学生食堂    云艺公共教学楼       1\n1           6号路  凤庆路口(双羊街)       1\n2           6号路   天文台(金马路)       2\n3           6号路      金马路中段       1\n4         920医院   东陆桥(西园路)       1\n...         ...        ...     ...\n4082   龙马村(珥季路)  龙马村东(珥季路)       1\n4083  龙马村东(珥季路)   中航城(珥季路)       1\n4084  龙马村东(珥季路)   龙马村(珥季路)       1\n4085    龙马社区居委会    中营(云秀路)       4\n4086    龙马社区居委会   龙马村(云秀路)       1\n\n[4087 rows x 3 columns]",
      "text/html": "<div>\n<style scoped>\n    .dataframe tbody tr th:only-of-type {\n        vertical-align: middle;\n    }\n\n    .dataframe tbody tr th {\n        vertical-align: top;\n    }\n\n    .dataframe thead th {\n        text-align: right;\n    }\n</style>\n<table border=\"1\" class=\"dataframe\">\n  <thead>\n    <tr style=\"text-align: right;\">\n      <th></th>\n      <th>source</th>\n      <th>target</th>\n      <th>Weight</th>\n    </tr>\n  </thead>\n  <tbody>\n    <tr>\n      <th>0</th>\n      <td>1号学生食堂</td>\n      <td>云艺公共教学楼</td>\n      <td>1</td>\n    </tr>\n    <tr>\n      <th>1</th>\n      <td>6号路</td>\n      <td>凤庆路口(双羊街)</td>\n      <td>1</td>\n    </tr>\n    <tr>\n      <th>2</th>\n      <td>6号路</td>\n      <td>天文台(金马路)</td>\n      <td>2</td>\n    </tr>\n    <tr>\n      <th>3</th>\n      <td>6号路</td>\n      <td>金马路中段</td>\n      <td>1</td>\n    </tr>\n    <tr>\n      <th>4</th>\n      <td>920医院</td>\n      <td>东陆桥(西园路)</td>\n      <td>1</td>\n    </tr>\n    <tr>\n      <th>...</th>\n      <td>...</td>\n      <td>...</td>\n      <td>...</td>\n    </tr>\n    <tr>\n      <th>4082</th>\n      <td>龙马村(珥季路)</td>\n      <td>龙马村东(珥季路)</td>\n      <td>1</td>\n    </tr>\n    <tr>\n      <th>4083</th>\n      <td>龙马村东(珥季路)</td>\n      <td>中航城(珥季路)</td>\n      <td>1</td>\n    </tr>\n    <tr>\n      <th>4084</th>\n      <td>龙马村东(珥季路)</td>\n      <td>龙马村(珥季路)</td>\n      <td>1</td>\n    </tr>\n    <tr>\n      <th>4085</th>\n      <td>龙马社区居委会</td>\n      <td>中营(云秀路)</td>\n      <td>4</td>\n    </tr>\n    <tr>\n      <th>4086</th>\n      <td>龙马社区居委会</td>\n      <td>龙马村(云秀路)</td>\n      <td>1</td>\n    </tr>\n  </tbody>\n</table>\n<p>4087 rows × 3 columns</p>\n</div>"
     },
     "execution_count": 88,
     "metadata": {},
     "output_type": "execute_result"
    }
   ],
   "source": [
    "side1 = pd.read_csv(side_path, encoding='gbk')\n",
    "dot1 = pd.read_csv(dot_path, encoding='gbk')\n",
    "side_b = pd.DataFrame(side1)\n",
    "dot2 = pd.DataFrame(dot1)\n",
    "side_b"
   ]
  },
  {
   "cell_type": "code",
   "execution_count": 89,
   "metadata": {
    "pycharm": {
     "name": "#%%\n"
    }
   },
   "outputs": [],
   "source": [
    "\n",
    "dot = list(dot2.iloc[:, 0])"
   ]
  },
  {
   "cell_type": "code",
   "execution_count": 90,
   "outputs": [],
   "source": [
    "def degree_averge(G):\n",
    "    degree = nx.degree_histogram(G)\n",
    "    i = 0\n",
    "    i1 = 0\n",
    "    i2 = 0\n",
    "    for s in degree:\n",
    "        i1 += i * s\n",
    "        i += 1\n",
    "        i2 += s\n",
    "    f = i1 / i2\n",
    "    return f\n",
    "\n"
   ],
   "metadata": {
    "collapsed": false,
    "pycharm": {
     "name": "#%%\n"
    }
   }
  },
  {
   "cell_type": "code",
   "execution_count": 91,
   "outputs": [],
   "source": [
    "def attack(dot, side_b):\n",
    "    G1 = nx.Graph()\n",
    "\n",
    "    nodes = []\n",
    "    for i in dot:\n",
    "        a = rd.random()\n",
    "        if p <= a:\n",
    "            G1.add_node(i)\n",
    "\n",
    "            nodes.append(i)\n",
    "        else:\n",
    "            side_b = side_b[~side_b['source'].isin([i])]\n",
    "            side_b = side_b[~side_b['target'].isin([i])]\n",
    "    side_q = list(side_b.iloc[:, 0])\n",
    "    side_z = list(side_b.iloc[:, 1])\n",
    "    for i in range(0, len(side_z) - 1):\n",
    "        G1.add_edge(side_q[i], side_z[i])\n",
    "    return [G1, nodes]"
   ],
   "metadata": {
    "collapsed": false,
    "pycharm": {
     "name": "#%%\n"
    }
   }
  },
  {
   "cell_type": "code",
   "execution_count": 92,
   "outputs": [],
   "source": [
    "a = []\n",
    "for i in range(0, 100):\n",
    "    p = i * 0.01\n",
    "    G = attack(dot, side_b)[0]\n",
    "    nodes = attack(dot, side_b)[1]\n",
    "    a.append(nx.global_efficiency(G))\n",
    "\n",
    "\n"
   ],
   "metadata": {
    "collapsed": false,
    "pycharm": {
     "name": "#%%\n"
    }
   }
  },
  {
   "cell_type": "code",
   "execution_count": 93,
   "outputs": [
    {
     "data": {
      "text/plain": "[0.11602718030964292,\n 0.0779806814515455,\n 0.06700586784534585,\n 0.05823925975258292,\n 0.0526174462990614,\n 0.04233163261241719,\n 0.03773029988731609,\n 0.029687438779495666,\n 0.024189960378981898,\n 0.021673593966088135,\n 0.015639910642213987,\n 0.008853299157924469,\n 0.00753839059605133,\n 0.006861646247093002,\n 0.005235437910261361,\n 0.004322770881948428,\n 0.0038698865096302585,\n 0.0036285705217247847,\n 0.003374448770388067,\n 0.0032953801904310356,\n 0.002867586005469601,\n 0.002677970888744264,\n 0.002388073000614494,\n 0.0022526039069081633,\n 0.00208823462591464,\n 0.0020417916127483393,\n 0.0019783368420597507,\n 0.001807023998759069,\n 0.001631135629773729,\n 0.0015079338065439908,\n 0.0014864301710081772,\n 0.0014489859252695997,\n 0.001448793432073429,\n 0.0014201461652399907,\n 0.0013658414397343947,\n 0.0013467074209358477,\n 0.001354982278107344,\n 0.0013535494730784327,\n 0.0013517865718254837,\n 0.0013319624789587844,\n 0.0013016691189346495,\n 0.0012828205457307848,\n 0.001270190217848038,\n 0.0012666905295619466,\n 0.0012584144964141086,\n 0.0012578624606385694,\n 0.0012759906530122572,\n 0.0012815522063129527,\n 0.0013150953460099057,\n 0.0013452608140651014,\n 0.0013391233248255217,\n 0.0013729801249108022,\n 0.0013851980295849036,\n 0.0013957964942209052,\n 0.0014351419108510138,\n 0.0014438553324668192,\n 0.0014506118857055387,\n 0.001439272659957863,\n 0.0014390747266849388,\n 0.0014512525015443047,\n 0.001467390307458883,\n 0.0014849349739123215,\n 0.0015131528372187087,\n 0.001562692613479559,\n 0.0016028945869290458,\n 0.001629347442149008,\n 0.0016363357905985827,\n 0.0016461364892363553,\n 0.0016889505972354623,\n 0.001721928923860929,\n 0.0016717835656348064,\n 0.0016930676509518457,\n 0.0016440114375033032,\n 0.0016681011141602205,\n 0.0017383575677785367,\n 0.0018119495183715353,\n 0.0018708899243250357,\n 0.0019478685054948558,\n 0.0020696833196833164,\n 0.0021287741126768413,\n 0.002146775540221258,\n 0.002185725145389889,\n 0.0023107174015842185,\n 0.00241497916047955,\n 0.002365755679713926,\n 0.0023632902241091983,\n 0.001986142362227223,\n 0.0020048441414091144,\n 0.001799069263441016,\n 0.0016828031350852924,\n 0.0014557412760253026,\n 0.00107479540039366,\n 0.0002627257799671593,\n 0.00025799793601651185,\n 0.0002313208420078649,\n 0.0003336113427856547,\n 0.0005224660397074191,\n 0.0004662004662004662,\n 0.0,\n 0.0]"
     },
     "execution_count": 93,
     "metadata": {},
     "output_type": "execute_result"
    }
   ],
   "source": [
    "p = 0\n",
    "G = attack(dot, side_b)[0]\n",
    "datas = pd.DataFrame(G.degree())\n",
    "datas = datas.sort_values(by=1, ascending=False)\n",
    "d = datas.shape[0]\n",
    "c=[]\n",
    "for i in range(0, 100):\n",
    "    b =int(i/100*d)\n",
    "    data1 = datas.iloc[0:b, 0]\n",
    "    G.remove_nodes_from(data1)\n",
    "    c.append(nx.global_efficiency(G))\n",
    "c"
   ],
   "metadata": {
    "collapsed": false,
    "pycharm": {
     "name": "#%%\n"
    }
   }
  },
  {
   "cell_type": "code",
   "execution_count": 94,
   "outputs": [
    {
     "data": {
      "text/plain": "<Figure size 432x288 with 1 Axes>",
      "image/png": "[encoded data removed]"
     },
     "metadata": {
      "needs_background": "light"
     },
     "output_type": "display_data"
    }
   ],
   "source": [
    "fig = plt.figure()\n",
    "ax = fig.add_axes([0, 0, 1, 1])\n",
    "grades_range = range(0, 100, 1)\n",
    "plt.rcParams[\"font.sans-serif\"] = [\"SimHei\"]  #设置字体\n",
    "plt.rcParams[\"axes.unicode_minus\"] = False  #正常显示负号\n",
    "ax.scatter(grades_range, a, color='b', label=\"随机攻击\")\n",
    "ax.scatter(grades_range, c, color='r', label=\"蓄意攻击\")\n",
    "ax.set_xlabel('节点失效比例')\n",
    "ax.set_ylabel('网络效率')\n",
    "ax.set_title('鲁棒性分析')\n",
    "#添加图例\n",
    "plt.legend()\n",
    "plt.show()"
   ],
   "metadata": {
    "collapsed": false,
    "pycharm": {
     "name": "#%%\n"
    }
   }
  },
  {
   "cell_type": "code",
   "execution_count": 94,
   "outputs": [],
   "source": [],
   "metadata": {
    "collapsed": false,
    "pycharm": {
     "name": "#%%\n"
    }
   }
  }
 ],
 "metadata": {
  "kernelspec": {
   "name": "pycharm-8a57d474",
   "language": "python",
   "display_name": "PyCharm (项目学习)"
  },
  "language_info": {
   "codemirror_mode": {
    "name": "ipython",
    "version": 3
   },
   "file_extension": ".py",
   "mimetype": "text/x-python",
   "name": "python",
   "nbconvert_exporter": "python",
   "pygments_lexer": "ipython3",
   "version": "3.9.1"
  }
 },
 "nbformat": 4,
 "nbformat_minor": 1
}