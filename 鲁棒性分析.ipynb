{
 "cells": [
  {
   "cell_type": "code",
   "execution_count": 82,
   "metadata": {
    "collapsed": true
   },
   "outputs": [],
   "source": [
    "import pandas as pd\n",
    "import networkx as nx\n",
    "import random as rd\n",
    "import matplotlib.pyplot as plt\n",
    "\n",
    "side_path = '公交线路-对偶.csv'\n",
    "dot_path = '公交站点-对偶.csv'\n",
    "#请用公交数据处理.py处理过的数据进行使用\n",
    "#只要格式与范例数据一样也可使用"
   ]
  },
  {
   "cell_type": "code",
   "execution_count": 83,
   "metadata": {
    "pycharm": {
     "name": "#%%\n"
    }
   },
   "outputs": [
    {
     "data": {
      "text/plain": "                        source                      target  Weight\n0        100路(草海公交首末站--小菜园立交桥)         101路(眠山车场--小菜园立交桥5)       3\n1        100路(草海公交首末站--小菜园立交桥)        104路(大观楼(大观路)--巴士家园)       1\n2        100路(草海公交首末站--小菜园立交桥)   113路(大漾田公交首末站--潘家湾(人民西路))       1\n3        100路(草海公交首末站--小菜园立交桥)          115路(西苑立交桥--蓝龙潭车场)       1\n4        100路(草海公交首末站--小菜园立交桥)           124路(艺术剧院--大观楼车场)       1\n...                        ...                         ...     ...\n1887          Z86路(眠山车场--眠山车场)            Z86路(眠山车场--眠山车场)       1\n1888      Z87路(马街--西山区政府(秀苑路))        Z113路(马街(春雨路)--马街中村)       1\n1889     Z8路(昆明南站西广场--雨花公交枢纽站)  Z15路(高新区管委会(马金铺)--雨花公交枢纽站)       1\n1890     Z8路(昆明南站西广场--雨花公交枢纽站)        Z26路(万峰街东口--雨花公交枢纽站)       1\n1891  Z92路(洛龙村(祥和街)--白龙潭淏园1号门)   Z105路(彩云南路口(朝云街)--众和康园南门)       1\n\n[1892 rows x 3 columns]",
      "text/html": "<div>\n<style scoped>\n    .dataframe tbody tr th:only-of-type {\n        vertical-align: middle;\n    }\n\n    .dataframe tbody tr th {\n        vertical-align: top;\n    }\n\n    .dataframe thead th {\n        text-align: right;\n    }\n</style>\n<table border=\"1\" class=\"dataframe\">\n  <thead>\n    <tr style=\"text-align: right;\">\n      <th></th>\n      <th>source</th>\n      <th>target</th>\n      <th>Weight</th>\n    </tr>\n  </thead>\n  <tbody>\n    <tr>\n      <th>0</th>\n      <td>100路(草海公交首末站--小菜园立交桥)</td>\n      <td>101路(眠山车场--小菜园立交桥5)</td>\n      <td>3</td>\n    </tr>\n    <tr>\n      <th>1</th>\n      <td>100路(草海公交首末站--小菜园立交桥)</td>\n      <td>104路(大观楼(大观路)--巴士家园)</td>\n      <td>1</td>\n    </tr>\n    <tr>\n      <th>2</th>\n      <td>100路(草海公交首末站--小菜园立交桥)</td>\n      <td>113路(大漾田公交首末站--潘家湾(人民西路))</td>\n      <td>1</td>\n    </tr>\n    <tr>\n      <th>3</th>\n      <td>100路(草海公交首末站--小菜园立交桥)</td>\n      <td>115路(西苑立交桥--蓝龙潭车场)</td>\n      <td>1</td>\n    </tr>\n    <tr>\n      <th>4</th>\n      <td>100路(草海公交首末站--小菜园立交桥)</td>\n      <td>124路(艺术剧院--大观楼车场)</td>\n      <td>1</td>\n    </tr>\n    <tr>\n      <th>...</th>\n      <td>...</td>\n      <td>...</td>\n      <td>...</td>\n    </tr>\n    <tr>\n      <th>1887</th>\n      <td>Z86路(眠山车场--眠山车场)</td>\n      <td>Z86路(眠山车场--眠山车场)</td>\n      <td>1</td>\n    </tr>\n    <tr>\n      <th>1888</th>\n      <td>Z87路(马街--西山区政府(秀苑路))</td>\n      <td>Z113路(马街(春雨路)--马街中村)</td>\n      <td>1</td>\n    </tr>\n    <tr>\n      <th>1889</th>\n      <td>Z8路(昆明南站西广场--雨花公交枢纽站)</td>\n      <td>Z15路(高新区管委会(马金铺)--雨花公交枢纽站)</td>\n      <td>1</td>\n    </tr>\n    <tr>\n      <th>1890</th>\n      <td>Z8路(昆明南站西广场--雨花公交枢纽站)</td>\n      <td>Z26路(万峰街东口--雨花公交枢纽站)</td>\n      <td>1</td>\n    </tr>\n    <tr>\n      <th>1891</th>\n      <td>Z92路(洛龙村(祥和街)--白龙潭淏园1号门)</td>\n      <td>Z105路(彩云南路口(朝云街)--众和康园南门)</td>\n      <td>1</td>\n    </tr>\n  </tbody>\n</table>\n<p>1892 rows × 3 columns</p>\n</div>"
     },
     "execution_count": 83,
     "metadata": {},
     "output_type": "execute_result"
    }
   ],
   "source": [
    "side1 = pd.read_csv(side_path, encoding='gbk')\n",
    "dot1 = pd.read_csv(dot_path, encoding='gbk')\n",
    "side_b = pd.DataFrame(side1)\n",
    "dot2 = pd.DataFrame(dot1)\n",
    "side_b"
   ]
  },
  {
   "cell_type": "code",
   "execution_count": 84,
   "metadata": {
    "pycharm": {
     "name": "#%%\n"
    }
   },
   "outputs": [],
   "source": [
    "\n",
    "dot = list(dot2.iloc[:, 0])"
   ]
  },
  {
   "cell_type": "code",
   "execution_count": 85,
   "outputs": [],
   "source": [
    "def degree_averge(G):\n",
    "    degree = nx.degree_histogram(G)\n",
    "    i = 0\n",
    "    i1 = 0\n",
    "    i2 = 0\n",
    "    for s in degree:\n",
    "        i1 += i * s\n",
    "        i += 1\n",
    "        i2 += s\n",
    "    f = i1 / i2\n",
    "    return f\n",
    "\n"
   ],
   "metadata": {
    "collapsed": false,
    "pycharm": {
     "name": "#%%\n"
    }
   }
  },
  {
   "cell_type": "code",
   "execution_count": 86,
   "outputs": [],
   "source": [
    "def attack(dot, side_b):\n",
    "    G1 = nx.Graph()\n",
    "\n",
    "    nodes = []\n",
    "    for i in dot:\n",
    "        a = rd.random()\n",
    "        if p <= a:\n",
    "            G1.add_node(i)\n",
    "\n",
    "            nodes.append(i)\n",
    "        else:\n",
    "            side_b = side_b[~side_b['source'].isin([i])]\n",
    "            side_b = side_b[~side_b['target'].isin([i])]\n",
    "    side_q = list(side_b.iloc[:, 0])\n",
    "    side_z = list(side_b.iloc[:, 1])\n",
    "    for i in range(0, len(side_z) - 1):\n",
    "        G1.add_edge(side_q[i], side_z[i])\n",
    "    return G1"
   ],
   "metadata": {
    "collapsed": false,
    "pycharm": {
     "name": "#%%\n"
    }
   }
  },
  {
   "cell_type": "code",
   "execution_count": 87,
   "outputs": [
    {
     "data": {
      "text/plain": "[0.25220292415332296,\n 0.2528191087743696,\n 0.2537668797629456,\n 0.25117438964446975,\n 0.2502382157031854,\n 0.2482374698305365,\n 0.24690367569549515,\n 0.24557625649098683,\n 0.24230270935748882,\n 0.23839570169600569,\n 0.23746074268444387,\n 0.23403772691757796,\n 0.23698447962196934,\n 0.23511406271874963,\n 0.23446284700737904,\n 0.2355156911627383,\n 0.23414649893051023,\n 0.23319822890946024,\n 0.2343804380991112,\n 0.23503891006402433,\n 0.23753351744174558,\n 0.23545040867028755,\n 0.2346836937082707,\n 0.23290394070224738,\n 0.2327103456919001,\n 0.23058915315716333,\n 0.22689257109889324,\n 0.22601254973496654,\n 0.22546484102042835,\n 0.22459510544155026,\n 0.2236235055325264,\n 0.2232113010672636,\n 0.2248993806023059,\n 0.22559307037577217,\n 0.22701021239166602,\n 0.22303631852877467,\n 0.2246362425805978,\n 0.2228367852867194,\n 0.2183289469508313,\n 0.21977135939853182,\n 0.21609034279517284,\n 0.2192258920331611,\n 0.22092059592065527,\n 0.22174289599723512,\n 0.22110334649861563,\n 0.21881696387424995,\n 0.21294854292783036,\n 0.21284768693053,\n 0.20700412681970692,\n 0.20643949570452005,\n 0.20390986458111404,\n 0.20083206494164954,\n 0.198617778053755,\n 0.20033603436106728,\n 0.19818946885721409,\n 0.19469185369138448,\n 0.19656669961365558,\n 0.1949845536228079,\n 0.18983715665503534,\n 0.18266938853626716,\n 0.18585890741121333,\n 0.18861255766673277,\n 0.19071304261348448,\n 0.18759401241327983,\n 0.18147207433697274,\n 0.17943393890845294,\n 0.1794327153424306,\n 0.1789776292327225,\n 0.17588171859004456,\n 0.18256161116654562,\n 0.18484921073643418,\n 0.16719472603193145,\n 0.16645689090450602,\n 0.1619121955485569,\n 0.15682363081788445,\n 0.15645268993483472,\n 0.15273080156257854,\n 0.14953095585591442,\n 0.13999577005142996,\n 0.11284003878376013,\n 0.1173729266987707,\n 0.10555822328931631,\n 0.09991732804232807,\n 0.09941060985797796,\n 0.10448384752962162,\n 0.0833640715444929,\n 0.06607803216866195,\n 0.0655552772443479,\n 0.04162728916397679,\n 0.030734693877551015,\n 0.025488215488215494,\n 0.027012195121951226,\n 0.029074074074074075,\n 0.03692876344086021,\n 0.03632478632478632,\n 0.028985507246376812,\n 0.013071895424836602,\n 0.01098901098901099,\n 0.0,\n 0.0]"
     },
     "execution_count": 87,
     "metadata": {},
     "output_type": "execute_result"
    }
   ],
   "source": [
    "p = 0\n",
    "G2 = attack(dot, side_b)\n",
    "datas = pd.DataFrame(G2.degree())\n",
    "datas = datas.sample(frac=1)\n",
    "d = datas.shape[0]\n",
    "a=[]\n",
    "for i in range(0, 100):\n",
    "    b =int(i/100*d)\n",
    "    data1 = datas.iloc[0:b, 0]\n",
    "    G2.remove_nodes_from(data1)\n",
    "    a.append(nx.global_efficiency(G2))\n",
    "a\n",
    "\n",
    "\n"
   ],
   "metadata": {
    "collapsed": false,
    "pycharm": {
     "name": "#%%\n"
    }
   }
  },
  {
   "cell_type": "code",
   "execution_count": 88,
   "outputs": [
    {
     "data": {
      "text/plain": "[0.25220292415332296,\n 0.2480675560145663,\n 0.2444499134289015,\n 0.2383805557285003,\n 0.23562935341984073,\n 0.23234400489732823,\n 0.22892419068421935,\n 0.22490338643932575,\n 0.22027329424026412,\n 0.21532391741743315,\n 0.21229099098621063,\n 0.20749059358615665,\n 0.20422109747110367,\n 0.20108485730367776,\n 0.19837524957769795,\n 0.1939699207041949,\n 0.19135777583345132,\n 0.18586788874931065,\n 0.18024032642129328,\n 0.17515222970126137,\n 0.17285940390504423,\n 0.17011977990530358,\n 0.16581624429552433,\n 0.16209372299246577,\n 0.15668400684675654,\n 0.15278186854016948,\n 0.14722784793508448,\n 0.14266822567042994,\n 0.14014425990539744,\n 0.1341287840276018,\n 0.1294305448904243,\n 0.1251290699358392,\n 0.11557647281982224,\n 0.10566331593588234,\n 0.10047472899167037,\n 0.09586458287666329,\n 0.09166497035191742,\n 0.08128933671084354,\n 0.07111114779217856,\n 0.06622744932444116,\n 0.058540325395493906,\n 0.055575763616362926,\n 0.05506020371813221,\n 0.05429920040729074,\n 0.049944394245964474,\n 0.04750626455271723,\n 0.038839914168136175,\n 0.0366386897231846,\n 0.02098644124691174,\n 0.017700204322045287,\n 0.017725661656835593,\n 0.01807411420736453,\n 0.017831619827924975,\n 0.01400695382753608,\n 0.012212485333489329,\n 0.011620538249768313,\n 0.010778525892998053,\n 0.00998326838676577,\n 0.00942010827947793,\n 0.008887898748910853,\n 0.009162638671144089,\n 0.009291953804269063,\n 0.006370808678500985,\n 0.006000973591335037,\n 0.0058605072463768105,\n 0.0054153737274756355,\n 0.004095503659811781,\n 0.004090825519396948,\n 0.0032213157213157218,\n 0.002693497376012234,\n 0.0027455316012529947,\n 0.0022659511031604056,\n 0.0020952380952380953,\n 0.001790633608815427,\n 0.0015473032714412025,\n 0.001287001287001287,\n 0.0012114918656974732,\n 0.001142204454597373,\n 0.0012368583797155227,\n 0.0011439029970258523,\n 0.0009987515605493133,\n 0.0008403361344537816,\n 0.0006172839506172839,\n 0.0,\n 0.0,\n 0.0,\n 0.0,\n 0.0,\n 0.0,\n 0.0,\n 0.0,\n 0.0,\n 0.0,\n 0.0,\n 0.0,\n 0.0,\n 0.0,\n 0.0,\n 0.0,\n 0.0]"
     },
     "execution_count": 88,
     "metadata": {},
     "output_type": "execute_result"
    }
   ],
   "source": [
    "p = 0\n",
    "G = attack(dot, side_b)\n",
    "datas = pd.DataFrame(G.degree())\n",
    "datas = datas.sort_values(by=1, ascending=False)\n",
    "d = datas.shape[0]\n",
    "c=[]\n",
    "for i in range(0, 100):\n",
    "    b =int(i/100*d)\n",
    "    data1 = datas.iloc[0:b, 0]\n",
    "    G.remove_nodes_from(data1)\n",
    "    c.append(nx.global_efficiency(G))\n",
    "c"
   ],
   "metadata": {
    "collapsed": false,
    "pycharm": {
     "name": "#%%\n"
    }
   }
  },
  {
   "cell_type": "code",
   "execution_count": 89,
   "outputs": [
    {
     "data": {
      "text/plain": "<Figure size 432x288 with 1 Axes>",
      "image/png": "[encoded data removed]"
     },
     "metadata": {
      "needs_background": "light"
     },
     "output_type": "display_data"
    }
   ],
   "source": [
    "fig = plt.figure()\n",
    "ax = fig.add_axes([0, 0, 1, 1])\n",
    "grades_range = range(0, 100, 1)\n",
    "plt.rcParams[\"font.sans-serif\"] = [\"SimHei\"]  #设置字体\n",
    "plt.rcParams[\"axes.unicode_minus\"] = False  #正常显示负号\n",
    "ax.scatter(grades_range, a, color='b', label=\"随机攻击\")\n",
    "ax.scatter(grades_range, c, color='r', label=\"蓄意攻击\")\n",
    "ax.set_xlabel('节点失效比例')\n",
    "ax.set_ylabel('网络效率')\n",
    "ax.set_title('鲁棒性分析')\n",
    "#添加图例\n",
    "plt.legend()\n",
    "plt.show()"
   ],
   "metadata": {
    "collapsed": false,
    "pycharm": {
     "name": "#%%\n"
    }
   }
  },
  {
   "cell_type": "code",
   "execution_count": 90,
   "outputs": [
    {
     "data": {
      "text/plain": "                               0   1\n74       96路(永昌小区(华昌路)--北部公交枢纽站)  29\n101             127路(海源寺车场--商汇路)  28\n54        75路(西南林业大学(南院路)--眠山车场)  26\n103       129路(逸雅路口(华晨路)--北市区车场)  25\n89            115路(西苑立交桥--蓝龙潭车场)  25\n..                           ...  ..\n320           K47路(地铁机场前站--津桥学院)   0\n415  Z121路(世纪城乘车点--大都购物中心(彩云北路))   0\n172              217路(小营社区--高登村)   0\n417    Z123路(春融街地铁站C口--白龙潭淏园1号门)   0\n446  Z152路(西园路口(滇缅大道)--省建工医院生活区)   0\n\n[447 rows x 2 columns]",
      "text/html": "<div>\n<style scoped>\n    .dataframe tbody tr th:only-of-type {\n        vertical-align: middle;\n    }\n\n    .dataframe tbody tr th {\n        vertical-align: top;\n    }\n\n    .dataframe thead th {\n        text-align: right;\n    }\n</style>\n<table border=\"1\" class=\"dataframe\">\n  <thead>\n    <tr style=\"text-align: right;\">\n      <th></th>\n      <th>0</th>\n      <th>1</th>\n    </tr>\n  </thead>\n  <tbody>\n    <tr>\n      <th>74</th>\n      <td>96路(永昌小区(华昌路)--北部公交枢纽站)</td>\n      <td>29</td>\n    </tr>\n    <tr>\n      <th>101</th>\n      <td>127路(海源寺车场--商汇路)</td>\n      <td>28</td>\n    </tr>\n    <tr>\n      <th>54</th>\n      <td>75路(西南林业大学(南院路)--眠山车场)</td>\n      <td>26</td>\n    </tr>\n    <tr>\n      <th>103</th>\n      <td>129路(逸雅路口(华晨路)--北市区车场)</td>\n      <td>25</td>\n    </tr>\n    <tr>\n      <th>89</th>\n      <td>115路(西苑立交桥--蓝龙潭车场)</td>\n      <td>25</td>\n    </tr>\n    <tr>\n      <th>...</th>\n      <td>...</td>\n      <td>...</td>\n    </tr>\n    <tr>\n      <th>320</th>\n      <td>K47路(地铁机场前站--津桥学院)</td>\n      <td>0</td>\n    </tr>\n    <tr>\n      <th>415</th>\n      <td>Z121路(世纪城乘车点--大都购物中心(彩云北路))</td>\n      <td>0</td>\n    </tr>\n    <tr>\n      <th>172</th>\n      <td>217路(小营社区--高登村)</td>\n      <td>0</td>\n    </tr>\n    <tr>\n      <th>417</th>\n      <td>Z123路(春融街地铁站C口--白龙潭淏园1号门)</td>\n      <td>0</td>\n    </tr>\n    <tr>\n      <th>446</th>\n      <td>Z152路(西园路口(滇缅大道)--省建工医院生活区)</td>\n      <td>0</td>\n    </tr>\n  </tbody>\n</table>\n<p>447 rows × 2 columns</p>\n</div>"
     },
     "execution_count": 90,
     "metadata": {},
     "output_type": "execute_result"
    }
   ],
   "source": [
    "datas\n"
   ],
   "metadata": {
    "collapsed": false,
    "pycharm": {
     "name": "#%%\n"
    }
   }
  }
 ],
 "metadata": {
  "kernelspec": {
   "name": "pycharm-8a57d474",
   "language": "python",
   "display_name": "PyCharm (项目学习)"
  },
  "language_info": {
   "codemirror_mode": {
    "name": "ipython",
    "version": 3
   },
   "file_extension": ".py",
   "mimetype": "text/x-python",
   "name": "python",
   "nbconvert_exporter": "python",
   "pygments_lexer": "ipython3",
   "version": "3.9.1"
  }
 },
 "nbformat": 4,
 "nbformat_minor": 1
}